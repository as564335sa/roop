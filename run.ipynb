{
 "cells": [
  {
   "cell_type": "code",
   "execution_count": null,
   "metadata": {},
   "outputs": [],
   "source": [
    "#@title 5.开始换脸\n",
    "\n",
    "Device = \"cuda\" #@param [\"cuda\", \"cpu\"]\n",
    "\n",
    "Processor = \"face_swapper face_enhancer\" #@param [\"face_swapper face_enhancer\", \"face_swapper\",\"face_enhancer\"]\n",
    "\n",
    "VideoEncoder = \"libx264\" #@param ['libx264', 'libx265', 'libvpx-vp9', 'h264_nvenc', 'hevc_nvenc']\n",
    "\n",
    "VideoQuality = \"35\" #@param {type:\"string\"}\n",
    "\n",
    "TempFormat = \"jpg\" #@param [\"jpg\", \"png\"]\n",
    "\n",
    "TempQuality = \"0\" #@param {type:\"string\"}\n",
    "\n",
    "\n",
    "KeepFPS = True #@param {type:\"boolean\"}\n",
    "SkipAudio = False #@param {type:\"boolean\"}\n",
    "KeepFrames = False #@param {type:\"boolean\"}\n",
    "ManyFaces = False #@param {type:\"boolean\"}\n",
    "\n",
    "\n",
    "KeepFPS =\"--keep-fps\" if KeepFPS==True else \"\"\n",
    "SkipAudio =\"--skip-audio\" if SkipAudio==True else \"\"\n",
    "KeepFrames =\"--keep-frames\" if KeepFrames==True else \"\"\n",
    "ManyFaces =\"--many-faces\" if ManyFaces==True else \"\"\n",
    "\n",
    "\n",
    "source = 'images/chuanface.png'\n",
    "target = 'images/333.jpg'\n",
    "output = 'images/out.jpg'\n",
    "cmd = f\"run.py --execution-provider {Device} -s {source} -t {target} -o {output} --frame-processor {Processor} --output-video-encoder {VideoEncoder} --output-video-quality {VideoQuality} {KeepFPS} {SkipAudio} {KeepFrames} {ManyFaces} --temp-frame-format {TempFormat} --temp-frame-quality {TempQuality}\"\n",
    "print(\"cmd:\"+cmd)\n",
    "\n",
    "\n",
    "# !wget https://github.com/dream80/roop_colab/releases/download/v0.0.1/inswapper_128.onnx\n",
    "# !mkdir models\n",
    "# !mv inswapper_128.onnx models/\n",
    "\n",
    "# !wget https://github.com/TencentARC/GFPGAN/releases/download/v1.3.4/GFPGANv1.4.pth\n",
    "# !mv GFPGANv1.4.pth models/\n",
    "\n",
    "!python $cmd"
   ]
  }
 ],
 "metadata": {
  "kernelspec": {
   "display_name": "roop",
   "language": "python",
   "name": "python3"
  },
  "language_info": {
   "codemirror_mode": {
    "name": "ipython",
    "version": 3
   },
   "file_extension": ".py",
   "mimetype": "text/x-python",
   "name": "python",
   "nbconvert_exporter": "python",
   "pygments_lexer": "ipython3",
   "version": "3.10.13"
  }
 },
 "nbformat": 4,
 "nbformat_minor": 2
}
